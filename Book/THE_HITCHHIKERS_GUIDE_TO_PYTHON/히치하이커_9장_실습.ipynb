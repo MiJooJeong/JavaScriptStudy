{
 "cells": [
  {
   "cell_type": "markdown",
   "metadata": {},
   "source": [
    "# 9장 소프트웨어 인터페이스\n",
    "## 목표\n",
    "\n",
    "- 웹 클라이언트(requests)\n",
    "- 데이터 직렬화(pickle)\n",
    "- AMQP(pick, celery)"
   ]
  },
  {
   "cell_type": "markdown",
   "metadata": {},
   "source": [
    "# 참고: jupyter notebook 에서 가상환경 분리하기!\n",
    "\n",
    "저는 hitchhiker라는 가상환경을 생성한 후 사용하고 있습니다.\n",
    "\n",
    "1. 가상환경 생성(virtualenvwrapper를 사용하면 간편합니다!)\n",
    "2. terminal에서 'jupyter --paths' 입력 후, data의 Jupyter 경로 확인 (ex./Users/bagmunsu/Library/Jupyter)\n",
    "3. 1번에서 생성한 가상환경을 활성화하여 'which python'을 통해 가상환경 위치 파악\n",
    "4. 2번에서 확인한 Jupyter에 kernel 추가, 터미널에 'mkdir /Users/bagmunsu/Library/Jupyter/kernels/(가상환경명)'\n",
    "5. 4번에서 생성한 경로에 'kernel.json' 추가\n",
    "    - kernel.json 예시\n",
    "    ~~~json\n",
    "    {\n",
    "    \"argv\": [ \"/Users/bagmunsu/.virtualenvs/hitchhiker/bin/python\", \"-m\", \"ipykernel\",\n",
    "              \"-f\", \"{connection_file}\"],\n",
    "    \"display_name\": \"hitchhiker\",\n",
    "    \"language\": \"python\"\n",
    "    }\n",
    "    ~~~\n",
    "6. Jupyter를 다시 실행하여 우측 상단 \"New\" 버튼에 추가한 커널을 확인한다\n",
    "\n",
    "jupyter notebook 에서 아래와 같이 입력해서 설치된 패키지를 확인해 볼 수 있습니다.\n",
    "\n",
    "```\n",
    "!pip list\n",
    "```\n",
    "\n",
    "조금 더 잘 쓰려면 **패키지 의존성 관리**도 하는 것이 좋을 것 같습니다."
   ]
  },
  {
   "cell_type": "markdown",
   "metadata": {},
   "source": [
    "## 웹 클라이언트 & json 파싱\n",
    "- [Request](http://docs.python-requests.org/en/master/) 모듈은 HTTP 요청에 대한 모든 작업을 수행하여, 웹에서 데이터를 얻는데 도움을 준다.\n",
    "- Requests 라이브러리의 Response 객체에는 내장 json 파서가 있어서, json 형식의 문자열이나 파일을 파이썬 딕셔너리(혹은 리스트)로 파싱한다.\n"
   ]
  },
  {
   "cell_type": "code",
   "execution_count": 34,
   "metadata": {},
   "outputs": [
    {
     "name": "stdout",
     "output_type": "stream",
     "text": [
      "Coinone home api GET 결과\n",
      "type: <class 'requests.models.Response'>\n",
      "text 포맷: \n",
      "<html>\n",
      "\t<head>\n",
      "\t\t<title>Coinone API</title>\n",
      "\t</head>\n",
      "\t<body>\n",
      "\t\t<script>\n",
      "            window.location.href=\"http://doc.coinone.co.kr/\";\n",
      "\t\t</script>\n",
      "\t</body>\n",
      "</html>\n",
      "\t\n",
      "\n"
     ]
    }
   ],
   "source": [
    "import requests\n",
    "\n",
    "# 코인원 API URL, http://doc.coinone.co.kr/#api-Public\n",
    "api_url_home = 'https://api.coinone.co.kr/'\n",
    "\n",
    "# 코인원 메인 페이지 시세 확인하기\n",
    "home_result = requests.get(api_url_home)\n",
    "print(\"Coinone home api GET 결과\")\n",
    "print(\"type: {}\".format(type(home_result)))\n",
    "print(\"text 포맷: \\n{}\\n\".format(home_result.text))\n"
   ]
  },
  {
   "cell_type": "code",
   "execution_count": 35,
   "metadata": {},
   "outputs": [
    {
     "name": "stdout",
     "output_type": "stream",
     "text": [
      "--------------------------------------------------\n",
      "Coinone ticker api GET 결과(btc)\n",
      "\n",
      "type: <class 'requests.models.Response'>\n",
      "\n",
      "text 포맷(<class 'str'>): \n",
      "{\"result\":\"success\",\"volume\":\"1236.2766\",\"last\":\"9188000\",\"yesterday_last\":\"9512000\",\"timestamp\":\"1526455369\",\"yesterday_low\":\"9485000\",\"high\":\"9527000\",\"currency\":\"btc\",\"low\":\"9070000\",\"errorCode\":\"0\",\"yesterday_first\":\"9587000\",\"yesterday_volume\":\"1169.5985\",\"yesterday_high\":\"9690000\",\"first\":\"9512000\"}\n",
      "\n",
      "json 형태(<class 'dict'>): \n",
      "{'result': 'success', 'volume': '1236.2766', 'last': '9188000', 'yesterday_last': '9512000', 'timestamp': '1526455369', 'yesterday_low': '9485000', 'high': '9527000', 'currency': 'btc', 'low': '9070000', 'errorCode': '0', 'yesterday_first': '9587000', 'yesterday_volume': '1169.5985', 'yesterday_high': '9690000', 'first': '9512000'}\n",
      "\n",
      "전일 최고가: 9,690,000, 전일 최저가: 9,485,000, 전일 종가: 9,512,000\n",
      "--------------------------------------------------\n",
      "--------------------------------------------------\n",
      "Coinone ticker api GET 결과(eth)\n",
      "\n",
      "type: <class 'requests.models.Response'>\n",
      "\n",
      "text 포맷(<class 'str'>): \n",
      "{\"result\":\"success\",\"volume\":\"13908.2625\",\"last\":\"772800\",\"yesterday_last\":\"792100\",\"timestamp\":\"1526455369\",\"yesterday_low\":\"783000\",\"high\":\"796900\",\"currency\":\"eth\",\"low\":\"755000\",\"errorCode\":\"0\",\"yesterday_first\":\"804500\",\"yesterday_volume\":\"15307.2234\",\"yesterday_high\":\"816000\",\"first\":\"792300\"}\n",
      "\n",
      "json 형태(<class 'dict'>): \n",
      "{'result': 'success', 'volume': '13908.2625', 'last': '772800', 'yesterday_last': '792100', 'timestamp': '1526455369', 'yesterday_low': '783000', 'high': '796900', 'currency': 'eth', 'low': '755000', 'errorCode': '0', 'yesterday_first': '804500', 'yesterday_volume': '15307.2234', 'yesterday_high': '816000', 'first': '792300'}\n",
      "\n",
      "전일 최고가: 816,000, 전일 최저가: 783,000, 전일 종가: 792,100\n",
      "--------------------------------------------------\n"
     ]
    }
   ],
   "source": [
    "# GET 에 parameter를 넘겨야 하는 경우\n",
    "# 코인별 전날 가격 정보 보기\n",
    "def print_yesterday_price_info(coin_name):\n",
    "    \"\"\"\n",
    "    \n",
    "    코인원의 전날 코인가격 정보를 프린트합니다.\n",
    "    API 문서: http://doc.coinone.co.kr/#api-Public-Ticker_UTC\n",
    "    \n",
    "    Args:\n",
    "        coin_name: 코인이름\n",
    "\n",
    "    \"\"\"\n",
    "    if not coin_name:\n",
    "        coin_name = 'btc'\n",
    "    result = requests.get(\n",
    "        'https://api.coinone.co.kr/ticker_utc/',\n",
    "        params={'currency': coin_name}\n",
    "    ) # ticker: 증권 시세 표시기\n",
    "    print('--------------------------------------------------')\n",
    "    print(\"Coinone ticker api GET 결과({})\\n\".format(coin_name))\n",
    "    print(\"type: {}\\n\".format(type(result)))\n",
    "    result_text = result.text\n",
    "    result_json = result.json()\n",
    "    print(\"text 포맷({}): \\n{}\\n\".format(type(result_text), result_text))\n",
    "    print(\"json 형태({}): \\n{}\\n\".format(type(result_json), result_json))\n",
    "\n",
    "    print(\"전일 최고가: {:,}, 전일 최저가: {:,}, 전일 종가: {:,}\".format(\n",
    "        int(result_json['yesterday_high']),\n",
    "        int(result_json['yesterday_low']),\n",
    "        int(result_json['yesterday_last'])\n",
    "    ))\n",
    "    print('--------------------------------------------------')\n",
    "\n",
    "print_yesterday_price_info('btc')\n",
    "print_yesterday_price_info('eth')"
   ]
  },
  {
   "cell_type": "markdown",
   "metadata": {},
   "source": [
    "## 데이터 직렬화\n",
    "\n",
    "- 데이터 직렬화(serializion)란 구조화된 데이터를 공유하거나 저장할 수 있는 형식으로 변환하는 개념\n",
    "- ![직렬화 이미지](https://docs.google.com/drawings/d/1OP2TLGYP0DLolFhQ3yxeeJ6S7MYi3iLOKg-e_kN9nKU/pub?w=919&h=124)\n",
    "- 파이썬 기본 데이터 직렬화 모듈은 [pickle](https://docs.python.org/3.6/library/pickle.html)이다. "
   ]
  },
  {
   "cell_type": "code",
   "execution_count": 1,
   "metadata": {},
   "outputs": [
    {
     "name": "stdout",
     "output_type": "stream",
     "text": [
      "b'\\x80\\x03}q\\x00(X\\t\\x00\\x00\\x00\\xec\\x86\\x90\\xed\\x9d\\xa5\\xeb\\xaf\\xbcq\\x01K\\tX\\t\\x00\\x00\\x00\\xea\\xb8\\xb0\\xec\\x84\\xb1\\xec\\x9a\\xa9q\\x02K\\x08X\\t\\x00\\x00\\x00\\xec\\x9d\\xb4\\xec\\x8a\\xb9\\xec\\x9a\\xb0q\\x03K\\x05X\\t\\x00\\x00\\x00\\xec\\xa1\\xb0\\xed\\x98\\x84\\xec\\x9a\\xb0q\\x04K\\x07u.'\n",
      "{'손흥민': 9, '기성용': 8, '이승우': 5, '조현우': 7}\n"
     ]
    }
   ],
   "source": [
    "import pickle\n",
    "\n",
    "grades = {'손흥민': 9, '기성용': 8, '이승우': 5, '조현우': 7}\n",
    "\n",
    "# 직렬화\n",
    "serial_grades = pickle.dumps(grades)\n",
    "\n",
    "print(serial_grades)\n",
    "\n",
    "# 역직렬화\n",
    "received_grades = pickle.loads(serial_grades)\n",
    "\n",
    "print(received_grades)"
   ]
  },
  {
   "cell_type": "markdown",
   "metadata": {},
   "source": [
    "## 분산시스템\n",
    "- 서로 정보를 전달하며 작업을 수행한다\n",
    "\n",
    "### 네트워킹\n",
    "- 파이썬은 전역 인터프리터 잠금(Global Interpreter Lock, GIL)의 단일 쓰레드 한계를 극복하기 위해 비동기 도구나 스레드를 사용해 연결 네트워크 통신을 처리한다."
   ]
  },
  {
   "cell_type": "markdown",
   "metadata": {},
   "source": [
    "#### 참고 (파이썬 코딩의 기술 p.178)\n",
    "*전역 인터프리터 잠금*\n",
    "- 상호 배제 잠금이며 CPython이 선점형 멀티스레딩의 영향을 받지 않게 막아줌\n",
    "- 인터럽트가 예상치 못한 시간에 일어나면 인터프리터의 상태가 망가진다\n",
    "- 다른 언어에서는 여러 스레드를 실행하면 프로그램이 동시에 여러 CPU코어를 사용하게 됨을 의미하지만, 파이썬에서는 멀티스레드를 지원하나, GIL로 인해 한 번에 한 스레드만 실행하게 된다.\n",
    "\n",
    "*선점형 멀티스레딩*\n",
    "- 한 스레드가 다른 스레드를 인터럽트해서 프로그램 제어를 얻게 되는 것"
   ]
  },
  {
   "cell_type": "markdown",
   "metadata": {},
   "source": [
    "### [gevent](http://leekchan.com/gevent-tutorial-ko/)\n",
    "- 큰 단위의 task를 한번에 동기로 처리하는 대신, 작은 단위의 subtask들로 쪼개서 동시에 비동기로 실행"
   ]
  },
  {
   "cell_type": "code",
   "execution_count": 4,
   "metadata": {},
   "outputs": [
    {
     "name": "stdout",
     "output_type": "stream",
     "text": [
      "gevent를 사용하지 않았을 때:\n",
      "Running in foo\n",
      "Explicit context switch to foo again\n",
      "Explicit context to bar\n",
      "Implicit context switch back to bar\n",
      "\n",
      "gevent를 사용할 때:\n",
      "Running in foo\n",
      "Explicit context to bar\n",
      "Explicit context switch to foo again\n",
      "Implicit context switch back to bar\n"
     ]
    },
    {
     "data": {
      "text/plain": [
       "[<Greenlet \"Greenlet-4\" at 0x106302948: _run>,\n",
       " <Greenlet \"Greenlet-5\" at 0x106302a48: _run>]"
      ]
     },
     "execution_count": 4,
     "metadata": {},
     "output_type": "execute_result"
    }
   ],
   "source": [
    "# gevent 예시\n",
    "import gevent\n",
    "\n",
    "def foo():\n",
    "    print('Running in foo')\n",
    "    gevent.sleep(0)\n",
    "    print('Explicit context switch to foo again')\n",
    "\n",
    "def bar():\n",
    "    print('Explicit context to bar')\n",
    "    gevent.sleep(0)\n",
    "    print('Implicit context switch back to bar')\n",
    "\n",
    "print(\"gevent를 사용하지 않았을 때:\")    \n",
    "foo()\n",
    "bar()\n",
    "\n",
    "print(\"\\ngevent를 사용할 때:\")    \n",
    "gevent.joinall([\n",
    "    gevent.spawn(foo),\n",
    "    gevent.spawn(bar),\n",
    "])"
   ]
  },
  {
   "cell_type": "markdown",
   "metadata": {},
   "source": [
    "### Pika, Celery\n",
    "\n",
    "- 메세지 브로커와 통신 할수 있는 클라이언트 라이브러리들\n",
    "- pika\n",
    "    - 경량화 클라이언트\n",
    "- Celery\n",
    "    - 더 많은 기능을 제공하는 클라이언트\n",
    "    - Flower(웹 관리자도구 및 작업 모니터링 도구) 포함\n",
    "    ![worker dashboard](http://flower.readthedocs.io/en/latest/_images/dashboard.png)\n",
    "\n",
    "#### 참고 ([출처](http://killins.egloos.com/m/3025514))\n",
    "- RabbitMQ\n",
    "    - AMQP를 구현한 오픈 소스 브로커 소프트웨어\n",
    "    \n",
    "- AMQP(Advanced Message Queuing Protocol)\n",
    "    - 플랫폼에 종속적이지 않은 Message Queuing의 표준 프로토콜\n",
    "- 메세지 브로커\n",
    "    - 프로토콜에 따라 발신자로부터 메세지를 전달 받아 수신자에게 전송하는 중간 프로그램\n"
   ]
  },
  {
   "cell_type": "code",
   "execution_count": null,
   "metadata": {},
   "outputs": [],
   "source": []
  }
 ],
 "metadata": {
  "kernelspec": {
   "display_name": "hitchhikers",
   "language": "python",
   "name": "hitchhikers"
  },
  "language_info": {
   "codemirror_mode": {
    "name": "ipython",
    "version": 3
   },
   "file_extension": ".py",
   "mimetype": "text/x-python",
   "name": "python",
   "nbconvert_exporter": "python",
   "pygments_lexer": "ipython3",
   "version": "3.6.5"
  }
 },
 "nbformat": 4,
 "nbformat_minor": 2
}
